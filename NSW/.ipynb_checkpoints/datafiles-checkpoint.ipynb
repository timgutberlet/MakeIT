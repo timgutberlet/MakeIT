{
 "cells": [
  {
   "cell_type": "code",
   "execution_count": null,
   "id": "8f649674-7e77-43b7-b7bd-3824dab89177",
   "metadata": {},
   "outputs": [],
   "source": [
    "import numpy as np\n",
    "import pandas as pd\n",
    "import math as math"
   ]
  },
  {
   "cell_type": "code",
   "execution_count": null,
   "id": "28b48d41-6e21-4348-9363-036d2f02ae9e",
   "metadata": {},
   "outputs": [],
   "source": [
    "info_gv = pd.read_csv(\"/Users/juliusguenthoer/Documents/GitHub/MakeIT/NSW/master_dataset_PublicSchool.csv\")"
   ]
  },
  {
   "cell_type": "code",
   "execution_count": null,
   "id": "2115a5dd-d2e1-4c7a-85e1-e6f38e3074eb",
   "metadata": {},
   "outputs": [],
   "source": [
    "list_of_int = [\"School_code\",\"School_name\",\"latest_year_enrolment_FTE\",\"Level_of_schooling\",\"AECG_region\",\"ASGS_remoteness\",\"Latitude\",\"Longitude\"]"
   ]
  },
  {
   "cell_type": "code",
   "execution_count": null,
   "id": "78f24317-0f4d-4320-8111-c472fb61f1af",
   "metadata": {},
   "outputs": [],
   "source": [
    "new_info_gv = info_gv[list_of_int]"
   ]
  },
  {
   "cell_type": "code",
   "execution_count": null,
   "id": "880809a2-49ad-41bd-9205-fe87f26314de",
   "metadata": {},
   "outputs": [],
   "source": [
    "new_info_gv"
   ]
  },
  {
   "cell_type": "code",
   "execution_count": null,
   "id": "a5fde82b-65fd-4a9d-ab0c-e7759d81e75f",
   "metadata": {},
   "outputs": [],
   "source": [
    "teacher_student_ratio = pd.read_csv(\"/Users/juliusguenthoer/Documents/GitHub/MakeIT/NSW/2006-2016-student-to-teacher-ratio.csv\")"
   ]
  },
  {
   "cell_type": "code",
   "execution_count": null,
   "id": "49a7b3db-926d-4933-a2ce-79190e5aa1b2",
   "metadata": {},
   "outputs": [],
   "source": [
    "teacher_student_ratio"
   ]
  },
  {
   "cell_type": "code",
   "execution_count": null,
   "id": "46c6682e-8de8-4ede-8311-1d1e40239c8f",
   "metadata": {},
   "outputs": [],
   "source": [
    "d={\"Level_of_schooling\":[\"Primary School\",\"Secondary School\",\"Central/Community School\",\"Schools for Specific Purposes\",\"Environmental Education Centre\",'Infants School','Other School'],\"Ratio\":[16.02857142857143,12.450000000000001,14.35,14.35,14.35,16.02857142857143,14.35]}"
   ]
  },
  {
   "cell_type": "code",
   "execution_count": null,
   "id": "29c38779-6c1d-4f6e-9341-1492a0dc6374",
   "metadata": {},
   "outputs": [],
   "source": [
    "ratio = pd.DataFrame.from_dict(d)"
   ]
  },
  {
   "cell_type": "code",
   "execution_count": null,
   "id": "07ff2f6e-72b1-47b7-8edd-49a04920b0a8",
   "metadata": {},
   "outputs": [],
   "source": [
    "ratio"
   ]
  },
  {
   "cell_type": "code",
   "execution_count": null,
   "id": "092a77c8-b4e6-4fc8-aeb8-95b765a7316b",
   "metadata": {},
   "outputs": [],
   "source": [
    "new_info_gv = pd.merge(new_info_gv,ratio, how = \"inner\", on = \"Level_of_schooling\")"
   ]
  },
  {
   "cell_type": "code",
   "execution_count": null,
   "id": "5738f56a-e520-4919-90ec-11343b1d4390",
   "metadata": {},
   "outputs": [],
   "source": [
    "new_info_gv[\"Level_of_schooling\"][60]"
   ]
  },
  {
   "cell_type": "code",
   "execution_count": null,
   "id": "c6af1302-e82b-4cf4-a697-5681abac2d9c",
   "metadata": {},
   "outputs": [],
   "source": [
    "pd.set_option(\"display.max_rows\",100000)"
   ]
  },
  {
   "cell_type": "code",
   "execution_count": null,
   "id": "ea748817-f4ce-4dea-a7e9-92b31f4c3f6d",
   "metadata": {},
   "outputs": [],
   "source": [
    "np.unique(new_info_gv[\"Level_of_schooling\"])"
   ]
  },
  {
   "cell_type": "code",
   "execution_count": null,
   "id": "31ae8d17-ff12-4505-a96b-4b7c8158dac1",
   "metadata": {},
   "outputs": [],
   "source": [
    "new_info_gv"
   ]
  },
  {
   "cell_type": "code",
   "execution_count": null,
   "id": "67b92277-c640-4201-b5ec-15af64687137",
   "metadata": {},
   "outputs": [],
   "source": [
    "new_info_gv[\"teacher_demand\"] = new_info_gv[\"latest_year_enrolment_FTE\"]/new_info_gv[\"Ratio\"]"
   ]
  },
  {
   "cell_type": "code",
   "execution_count": null,
   "id": "653fe81d-99ce-4380-b2e1-ff2a8c610d55",
   "metadata": {},
   "outputs": [],
   "source": [
    "new_info_gv[\"teacher_demand\"] = new_info_gv[\"teacher_demand\"].fillna(new_info_gv[\"teacher_demand\"].mean())"
   ]
  },
  {
   "cell_type": "code",
   "execution_count": null,
   "id": "70c290db-48a5-43a0-95e6-0131f95492cd",
   "metadata": {},
   "outputs": [],
   "source": [
    "sum(round(new_info_gv[\"teacher_demand\"]+0.4))"
   ]
  },
  {
   "cell_type": "code",
   "execution_count": null,
   "id": "b7e2000e-d8b0-4a47-ba9b-3b655b9bb972",
   "metadata": {},
   "outputs": [],
   "source": [
    "new_info_gv = info_gv[list_of_int]"
   ]
  },
  {
   "cell_type": "code",
   "execution_count": null,
   "id": "d0e805f4-3993-4014-8e62-30903853d796",
   "metadata": {},
   "outputs": [],
   "source": []
  }
 ],
 "metadata": {
  "kernelspec": {
   "display_name": "Python 3",
   "language": "python",
   "name": "python3"
  },
  "language_info": {
   "codemirror_mode": {
    "name": "ipython",
    "version": 3
   },
   "file_extension": ".py",
   "mimetype": "text/x-python",
   "name": "python",
   "nbconvert_exporter": "python",
   "pygments_lexer": "ipython3",
   "version": "3.8.8"
  }
 },
 "nbformat": 4,
 "nbformat_minor": 5
}
