{
 "cells": [
  {
   "cell_type": "code",
   "execution_count": 269,
   "id": "8f649674-7e77-43b7-b7bd-3824dab89177",
   "metadata": {},
   "outputs": [],
   "source": [
    "import numpy as np\n",
    "import pandas as pd\n",
    "import math as math"
   ]
  },
  {
   "cell_type": "code",
   "execution_count": 270,
   "id": "3ef5d235-9035-4c68-8b47-61e6bf52dadb",
   "metadata": {},
   "outputs": [],
   "source": [
    "info_gv = pd.read_csv(\"/Users/juliusguenthoer/Documents/GitHub/MakeIT/NSW/master_dataset_PublicSchool.csv\")\n",
    "\n",
    "list_of_int = [\"School_code\",\"School_name\",\"latest_year_enrolment_FTE\",\"Level_of_schooling\",\"AECG_region\",\"ASGS_remoteness\",\"Latitude\",\"Longitude\"]"
   ]
  },
  {
   "cell_type": "code",
   "execution_count": 271,
   "id": "78f24317-0f4d-4320-8111-c472fb61f1af",
   "metadata": {},
   "outputs": [],
   "source": [
    "new_info_gv = info_gv[list_of_int]"
   ]
  },
  {
   "cell_type": "code",
   "execution_count": 272,
   "id": "880809a2-49ad-41bd-9205-fe87f26314de",
   "metadata": {},
   "outputs": [
    {
     "data": {
      "text/html": [
       "<div>\n",
       "<style scoped>\n",
       "    .dataframe tbody tr th:only-of-type {\n",
       "        vertical-align: middle;\n",
       "    }\n",
       "\n",
       "    .dataframe tbody tr th {\n",
       "        vertical-align: top;\n",
       "    }\n",
       "\n",
       "    .dataframe thead th {\n",
       "        text-align: right;\n",
       "    }\n",
       "</style>\n",
       "<table border=\"1\" class=\"dataframe\">\n",
       "  <thead>\n",
       "    <tr style=\"text-align: right;\">\n",
       "      <th></th>\n",
       "      <th>School_code</th>\n",
       "      <th>School_name</th>\n",
       "      <th>latest_year_enrolment_FTE</th>\n",
       "      <th>Level_of_schooling</th>\n",
       "      <th>AECG_region</th>\n",
       "      <th>ASGS_remoteness</th>\n",
       "      <th>Latitude</th>\n",
       "      <th>Longitude</th>\n",
       "    </tr>\n",
       "  </thead>\n",
       "  <tbody>\n",
       "    <tr>\n",
       "      <th>0</th>\n",
       "      <td>1001</td>\n",
       "      <td>Abbotsford Public School</td>\n",
       "      <td>531.0</td>\n",
       "      <td>Primary School</td>\n",
       "      <td>Metropolitan East</td>\n",
       "      <td>Major Cities of Australia</td>\n",
       "      <td>-33.852728</td>\n",
       "      <td>151.131206</td>\n",
       "    </tr>\n",
       "    <tr>\n",
       "      <th>1</th>\n",
       "      <td>1002</td>\n",
       "      <td>Aberdeen Public School</td>\n",
       "      <td>191.0</td>\n",
       "      <td>Primary School</td>\n",
       "      <td>Hunter</td>\n",
       "      <td>Inner Regional Australia</td>\n",
       "      <td>-32.166098</td>\n",
       "      <td>150.888095</td>\n",
       "    </tr>\n",
       "    <tr>\n",
       "      <th>2</th>\n",
       "      <td>1003</td>\n",
       "      <td>Abermain Public School</td>\n",
       "      <td>270.0</td>\n",
       "      <td>Primary School</td>\n",
       "      <td>Hunter</td>\n",
       "      <td>Major Cities of Australia</td>\n",
       "      <td>-32.808920</td>\n",
       "      <td>151.426499</td>\n",
       "    </tr>\n",
       "    <tr>\n",
       "      <th>3</th>\n",
       "      <td>1007</td>\n",
       "      <td>Adaminaby Public School</td>\n",
       "      <td>19.0</td>\n",
       "      <td>Primary School</td>\n",
       "      <td>Lower South Coast</td>\n",
       "      <td>Outer Regional Australia</td>\n",
       "      <td>-35.993292</td>\n",
       "      <td>148.776721</td>\n",
       "    </tr>\n",
       "    <tr>\n",
       "      <th>4</th>\n",
       "      <td>1008</td>\n",
       "      <td>Adamstown Public School</td>\n",
       "      <td>317.0</td>\n",
       "      <td>Primary School</td>\n",
       "      <td>Hunter</td>\n",
       "      <td>Major Cities of Australia</td>\n",
       "      <td>-32.932213</td>\n",
       "      <td>151.730971</td>\n",
       "    </tr>\n",
       "    <tr>\n",
       "      <th>...</th>\n",
       "      <td>...</td>\n",
       "      <td>...</td>\n",
       "      <td>...</td>\n",
       "      <td>...</td>\n",
       "      <td>...</td>\n",
       "      <td>...</td>\n",
       "      <td>...</td>\n",
       "      <td>...</td>\n",
       "    </tr>\n",
       "    <tr>\n",
       "      <th>2213</th>\n",
       "      <td>8913</td>\n",
       "      <td>Inner Sydney High School</td>\n",
       "      <td>147.0</td>\n",
       "      <td>Secondary School</td>\n",
       "      <td>NaN</td>\n",
       "      <td>Major Cities of Australia</td>\n",
       "      <td>-33.889372</td>\n",
       "      <td>151.206030</td>\n",
       "    </tr>\n",
       "    <tr>\n",
       "      <th>2214</th>\n",
       "      <td>8914</td>\n",
       "      <td>Centre of Excellence in Agricultural Education...</td>\n",
       "      <td>NaN</td>\n",
       "      <td>Secondary School</td>\n",
       "      <td>NaN</td>\n",
       "      <td>Major Cities of Australia</td>\n",
       "      <td>-33.614026</td>\n",
       "      <td>150.753568</td>\n",
       "    </tr>\n",
       "    <tr>\n",
       "      <th>2215</th>\n",
       "      <td>8915</td>\n",
       "      <td>Armidale Secondary College</td>\n",
       "      <td>1149.2</td>\n",
       "      <td>Secondary School</td>\n",
       "      <td>North Western 2</td>\n",
       "      <td>Inner Regional Australia</td>\n",
       "      <td>-30.519371</td>\n",
       "      <td>151.650348</td>\n",
       "    </tr>\n",
       "    <tr>\n",
       "      <th>2216</th>\n",
       "      <td>8916</td>\n",
       "      <td>Oran Park High School</td>\n",
       "      <td>279.0</td>\n",
       "      <td>Secondary School</td>\n",
       "      <td>NaN</td>\n",
       "      <td>Major Cities of Australia</td>\n",
       "      <td>-33.998988</td>\n",
       "      <td>150.736305</td>\n",
       "    </tr>\n",
       "    <tr>\n",
       "      <th>2217</th>\n",
       "      <td>8917</td>\n",
       "      <td>Murrumbidgee Regional High School</td>\n",
       "      <td>1215.8</td>\n",
       "      <td>Secondary School</td>\n",
       "      <td>Riverina 1</td>\n",
       "      <td>Outer Regional Australia</td>\n",
       "      <td>-34.282315</td>\n",
       "      <td>146.070718</td>\n",
       "    </tr>\n",
       "  </tbody>\n",
       "</table>\n",
       "<p>2218 rows × 8 columns</p>\n",
       "</div>"
      ],
      "text/plain": [
       "      School_code                                        School_name  \\\n",
       "0            1001                           Abbotsford Public School   \n",
       "1            1002                             Aberdeen Public School   \n",
       "2            1003                             Abermain Public School   \n",
       "3            1007                            Adaminaby Public School   \n",
       "4            1008                            Adamstown Public School   \n",
       "...           ...                                                ...   \n",
       "2213         8913                           Inner Sydney High School   \n",
       "2214         8914  Centre of Excellence in Agricultural Education...   \n",
       "2215         8915                         Armidale Secondary College   \n",
       "2216         8916                              Oran Park High School   \n",
       "2217         8917                  Murrumbidgee Regional High School   \n",
       "\n",
       "      latest_year_enrolment_FTE Level_of_schooling        AECG_region  \\\n",
       "0                         531.0     Primary School  Metropolitan East   \n",
       "1                         191.0     Primary School             Hunter   \n",
       "2                         270.0     Primary School             Hunter   \n",
       "3                          19.0     Primary School  Lower South Coast   \n",
       "4                         317.0     Primary School             Hunter   \n",
       "...                         ...                ...                ...   \n",
       "2213                      147.0   Secondary School                NaN   \n",
       "2214                        NaN   Secondary School                NaN   \n",
       "2215                     1149.2   Secondary School    North Western 2   \n",
       "2216                      279.0   Secondary School                NaN   \n",
       "2217                     1215.8   Secondary School         Riverina 1   \n",
       "\n",
       "                ASGS_remoteness   Latitude   Longitude  \n",
       "0     Major Cities of Australia -33.852728  151.131206  \n",
       "1      Inner Regional Australia -32.166098  150.888095  \n",
       "2     Major Cities of Australia -32.808920  151.426499  \n",
       "3      Outer Regional Australia -35.993292  148.776721  \n",
       "4     Major Cities of Australia -32.932213  151.730971  \n",
       "...                         ...        ...         ...  \n",
       "2213  Major Cities of Australia -33.889372  151.206030  \n",
       "2214  Major Cities of Australia -33.614026  150.753568  \n",
       "2215   Inner Regional Australia -30.519371  151.650348  \n",
       "2216  Major Cities of Australia -33.998988  150.736305  \n",
       "2217   Outer Regional Australia -34.282315  146.070718  \n",
       "\n",
       "[2218 rows x 8 columns]"
      ]
     },
     "execution_count": 272,
     "metadata": {},
     "output_type": "execute_result"
    }
   ],
   "source": [
    "new_info_gv"
   ]
  },
  {
   "cell_type": "code",
   "execution_count": 273,
   "id": "a5fde82b-65fd-4a9d-ab0c-e7759d81e75f",
   "metadata": {},
   "outputs": [],
   "source": [
    "teacher_student_ratio = pd.read_csv(\"/Users/juliusguenthoer/Documents/GitHub/MakeIT/NSW/2006-2016-student-to-teacher-ratio.csv\")"
   ]
  },
  {
   "cell_type": "code",
   "execution_count": 274,
   "id": "49a7b3db-926d-4933-a2ce-79190e5aa1b2",
   "metadata": {},
   "outputs": [
    {
     "data": {
      "text/html": [
       "<div>\n",
       "<style scoped>\n",
       "    .dataframe tbody tr th:only-of-type {\n",
       "        vertical-align: middle;\n",
       "    }\n",
       "\n",
       "    .dataframe tbody tr th {\n",
       "        vertical-align: top;\n",
       "    }\n",
       "\n",
       "    .dataframe thead th {\n",
       "        text-align: right;\n",
       "    }\n",
       "</style>\n",
       "<table border=\"1\" class=\"dataframe\">\n",
       "  <thead>\n",
       "    <tr style=\"text-align: right;\">\n",
       "      <th></th>\n",
       "      <th>year</th>\n",
       "      <th>overall_student_to_teacher_ratio</th>\n",
       "      <th>primary_student_to_teacher_ratio</th>\n",
       "      <th>secondary_student_to_teacher_ratio</th>\n",
       "    </tr>\n",
       "  </thead>\n",
       "  <tbody>\n",
       "    <tr>\n",
       "      <th>0</th>\n",
       "      <td>2003</td>\n",
       "      <td>15.0</td>\n",
       "      <td>17.3</td>\n",
       "      <td>12.6</td>\n",
       "    </tr>\n",
       "    <tr>\n",
       "      <th>1</th>\n",
       "      <td>2004</td>\n",
       "      <td>14.8</td>\n",
       "      <td>17.0</td>\n",
       "      <td>12.5</td>\n",
       "    </tr>\n",
       "    <tr>\n",
       "      <th>2</th>\n",
       "      <td>2005</td>\n",
       "      <td>14.6</td>\n",
       "      <td>16.7</td>\n",
       "      <td>12.4</td>\n",
       "    </tr>\n",
       "    <tr>\n",
       "      <th>3</th>\n",
       "      <td>2006</td>\n",
       "      <td>14.4</td>\n",
       "      <td>16.2</td>\n",
       "      <td>12.4</td>\n",
       "    </tr>\n",
       "    <tr>\n",
       "      <th>4</th>\n",
       "      <td>2007</td>\n",
       "      <td>14.4</td>\n",
       "      <td>16.2</td>\n",
       "      <td>12.5</td>\n",
       "    </tr>\n",
       "    <tr>\n",
       "      <th>5</th>\n",
       "      <td>2008</td>\n",
       "      <td>14.3</td>\n",
       "      <td>15.9</td>\n",
       "      <td>12.4</td>\n",
       "    </tr>\n",
       "    <tr>\n",
       "      <th>6</th>\n",
       "      <td>2009</td>\n",
       "      <td>14.2</td>\n",
       "      <td>15.9</td>\n",
       "      <td>12.4</td>\n",
       "    </tr>\n",
       "    <tr>\n",
       "      <th>7</th>\n",
       "      <td>2010</td>\n",
       "      <td>14.2</td>\n",
       "      <td>15.7</td>\n",
       "      <td>12.5</td>\n",
       "    </tr>\n",
       "    <tr>\n",
       "      <th>8</th>\n",
       "      <td>2011</td>\n",
       "      <td>14.1</td>\n",
       "      <td>15.5</td>\n",
       "      <td>12.5</td>\n",
       "    </tr>\n",
       "    <tr>\n",
       "      <th>9</th>\n",
       "      <td>2012</td>\n",
       "      <td>14.1</td>\n",
       "      <td>15.5</td>\n",
       "      <td>12.4</td>\n",
       "    </tr>\n",
       "    <tr>\n",
       "      <th>10</th>\n",
       "      <td>2013</td>\n",
       "      <td>14.0</td>\n",
       "      <td>15.5</td>\n",
       "      <td>12.3</td>\n",
       "    </tr>\n",
       "    <tr>\n",
       "      <th>11</th>\n",
       "      <td>2014</td>\n",
       "      <td>14.2</td>\n",
       "      <td>15.6</td>\n",
       "      <td>12.4</td>\n",
       "    </tr>\n",
       "    <tr>\n",
       "      <th>12</th>\n",
       "      <td>2015</td>\n",
       "      <td>14.3</td>\n",
       "      <td>15.8</td>\n",
       "      <td>12.5</td>\n",
       "    </tr>\n",
       "    <tr>\n",
       "      <th>13</th>\n",
       "      <td>2016</td>\n",
       "      <td>14.3</td>\n",
       "      <td>15.6</td>\n",
       "      <td>12.5</td>\n",
       "    </tr>\n",
       "  </tbody>\n",
       "</table>\n",
       "</div>"
      ],
      "text/plain": [
       "    year  overall_student_to_teacher_ratio  primary_student_to_teacher_ratio  \\\n",
       "0   2003                              15.0                              17.3   \n",
       "1   2004                              14.8                              17.0   \n",
       "2   2005                              14.6                              16.7   \n",
       "3   2006                              14.4                              16.2   \n",
       "4   2007                              14.4                              16.2   \n",
       "5   2008                              14.3                              15.9   \n",
       "6   2009                              14.2                              15.9   \n",
       "7   2010                              14.2                              15.7   \n",
       "8   2011                              14.1                              15.5   \n",
       "9   2012                              14.1                              15.5   \n",
       "10  2013                              14.0                              15.5   \n",
       "11  2014                              14.2                              15.6   \n",
       "12  2015                              14.3                              15.8   \n",
       "13  2016                              14.3                              15.6   \n",
       "\n",
       "    secondary_student_to_teacher_ratio  \n",
       "0                                 12.6  \n",
       "1                                 12.5  \n",
       "2                                 12.4  \n",
       "3                                 12.4  \n",
       "4                                 12.5  \n",
       "5                                 12.4  \n",
       "6                                 12.4  \n",
       "7                                 12.5  \n",
       "8                                 12.5  \n",
       "9                                 12.4  \n",
       "10                                12.3  \n",
       "11                                12.4  \n",
       "12                                12.5  \n",
       "13                                12.5  "
      ]
     },
     "execution_count": 274,
     "metadata": {},
     "output_type": "execute_result"
    }
   ],
   "source": [
    "teacher_student_ratio"
   ]
  },
  {
   "cell_type": "code",
   "execution_count": 275,
   "id": "46c6682e-8de8-4ede-8311-1d1e40239c8f",
   "metadata": {},
   "outputs": [],
   "source": [
    "d={\"Level_of_schooling\":[\"Primary School\",\"Secondary School\",\"Central/Community School\",\"Schools for Specific Purposes\",\"Environmental Education Centre\",'Infants School','Other School'],\"Ratio\":[16.02857142857143,12.450000000000001,14.35,14.35,14.35,16.02857142857143,14.35]}"
   ]
  },
  {
   "cell_type": "code",
   "execution_count": 276,
   "id": "29c38779-6c1d-4f6e-9341-1492a0dc6374",
   "metadata": {},
   "outputs": [],
   "source": [
    "ratio = pd.DataFrame.from_dict(d)"
   ]
  },
  {
   "cell_type": "code",
   "execution_count": 277,
   "id": "07ff2f6e-72b1-47b7-8edd-49a04920b0a8",
   "metadata": {},
   "outputs": [
    {
     "data": {
      "text/html": [
       "<div>\n",
       "<style scoped>\n",
       "    .dataframe tbody tr th:only-of-type {\n",
       "        vertical-align: middle;\n",
       "    }\n",
       "\n",
       "    .dataframe tbody tr th {\n",
       "        vertical-align: top;\n",
       "    }\n",
       "\n",
       "    .dataframe thead th {\n",
       "        text-align: right;\n",
       "    }\n",
       "</style>\n",
       "<table border=\"1\" class=\"dataframe\">\n",
       "  <thead>\n",
       "    <tr style=\"text-align: right;\">\n",
       "      <th></th>\n",
       "      <th>Level_of_schooling</th>\n",
       "      <th>Ratio</th>\n",
       "    </tr>\n",
       "  </thead>\n",
       "  <tbody>\n",
       "    <tr>\n",
       "      <th>0</th>\n",
       "      <td>Primary School</td>\n",
       "      <td>16.028571</td>\n",
       "    </tr>\n",
       "    <tr>\n",
       "      <th>1</th>\n",
       "      <td>Secondary School</td>\n",
       "      <td>12.450000</td>\n",
       "    </tr>\n",
       "    <tr>\n",
       "      <th>2</th>\n",
       "      <td>Central/Community School</td>\n",
       "      <td>14.350000</td>\n",
       "    </tr>\n",
       "    <tr>\n",
       "      <th>3</th>\n",
       "      <td>Schools for Specific Purposes</td>\n",
       "      <td>14.350000</td>\n",
       "    </tr>\n",
       "    <tr>\n",
       "      <th>4</th>\n",
       "      <td>Environmental Education Centre</td>\n",
       "      <td>14.350000</td>\n",
       "    </tr>\n",
       "    <tr>\n",
       "      <th>5</th>\n",
       "      <td>Infants School</td>\n",
       "      <td>16.028571</td>\n",
       "    </tr>\n",
       "    <tr>\n",
       "      <th>6</th>\n",
       "      <td>Other School</td>\n",
       "      <td>14.350000</td>\n",
       "    </tr>\n",
       "  </tbody>\n",
       "</table>\n",
       "</div>"
      ],
      "text/plain": [
       "               Level_of_schooling      Ratio\n",
       "0                  Primary School  16.028571\n",
       "1                Secondary School  12.450000\n",
       "2        Central/Community School  14.350000\n",
       "3   Schools for Specific Purposes  14.350000\n",
       "4  Environmental Education Centre  14.350000\n",
       "5                  Infants School  16.028571\n",
       "6                    Other School  14.350000"
      ]
     },
     "execution_count": 277,
     "metadata": {},
     "output_type": "execute_result"
    }
   ],
   "source": [
    "ratio"
   ]
  },
  {
   "cell_type": "code",
   "execution_count": 278,
   "id": "092a77c8-b4e6-4fc8-aeb8-95b765a7316b",
   "metadata": {},
   "outputs": [],
   "source": [
    "new_info_gv = pd.merge(new_info_gv,ratio, how = \"inner\", on = \"Level_of_schooling\")"
   ]
  },
  {
   "cell_type": "code",
   "execution_count": 279,
   "id": "5738f56a-e520-4919-90ec-11343b1d4390",
   "metadata": {},
   "outputs": [
    {
     "data": {
      "text/plain": [
       "'Primary School'"
      ]
     },
     "execution_count": 279,
     "metadata": {},
     "output_type": "execute_result"
    }
   ],
   "source": [
    "new_info_gv[\"Level_of_schooling\"][60]"
   ]
  },
  {
   "cell_type": "code",
   "execution_count": 280,
   "id": "c6af1302-e82b-4cf4-a697-5681abac2d9c",
   "metadata": {},
   "outputs": [],
   "source": [
    "pd.set_option(\"display.max_columns\",1000)"
   ]
  },
  {
   "cell_type": "code",
   "execution_count": 281,
   "id": "ea748817-f4ce-4dea-a7e9-92b31f4c3f6d",
   "metadata": {},
   "outputs": [
    {
     "data": {
      "text/plain": [
       "array(['Central/Community School', 'Environmental Education Centre',\n",
       "       'Infants School', 'Other School', 'Primary School',\n",
       "       'Schools for Specific Purposes', 'Secondary School'], dtype=object)"
      ]
     },
     "execution_count": 281,
     "metadata": {},
     "output_type": "execute_result"
    }
   ],
   "source": [
    "np.unique(new_info_gv[\"Level_of_schooling\"])"
   ]
  },
  {
   "cell_type": "code",
   "execution_count": 282,
   "id": "31ae8d17-ff12-4505-a96b-4b7c8158dac1",
   "metadata": {},
   "outputs": [
    {
     "data": {
      "text/html": [
       "<div>\n",
       "<style scoped>\n",
       "    .dataframe tbody tr th:only-of-type {\n",
       "        vertical-align: middle;\n",
       "    }\n",
       "\n",
       "    .dataframe tbody tr th {\n",
       "        vertical-align: top;\n",
       "    }\n",
       "\n",
       "    .dataframe thead th {\n",
       "        text-align: right;\n",
       "    }\n",
       "</style>\n",
       "<table border=\"1\" class=\"dataframe\">\n",
       "  <thead>\n",
       "    <tr style=\"text-align: right;\">\n",
       "      <th></th>\n",
       "      <th>School_code</th>\n",
       "      <th>School_name</th>\n",
       "      <th>latest_year_enrolment_FTE</th>\n",
       "      <th>Level_of_schooling</th>\n",
       "      <th>AECG_region</th>\n",
       "      <th>ASGS_remoteness</th>\n",
       "      <th>Latitude</th>\n",
       "      <th>Longitude</th>\n",
       "      <th>Ratio</th>\n",
       "    </tr>\n",
       "  </thead>\n",
       "  <tbody>\n",
       "    <tr>\n",
       "      <th>0</th>\n",
       "      <td>1001</td>\n",
       "      <td>Abbotsford Public School</td>\n",
       "      <td>531.0</td>\n",
       "      <td>Primary School</td>\n",
       "      <td>Metropolitan East</td>\n",
       "      <td>Major Cities of Australia</td>\n",
       "      <td>-33.852728</td>\n",
       "      <td>151.131206</td>\n",
       "      <td>16.028571</td>\n",
       "    </tr>\n",
       "    <tr>\n",
       "      <th>1</th>\n",
       "      <td>1002</td>\n",
       "      <td>Aberdeen Public School</td>\n",
       "      <td>191.0</td>\n",
       "      <td>Primary School</td>\n",
       "      <td>Hunter</td>\n",
       "      <td>Inner Regional Australia</td>\n",
       "      <td>-32.166098</td>\n",
       "      <td>150.888095</td>\n",
       "      <td>16.028571</td>\n",
       "    </tr>\n",
       "    <tr>\n",
       "      <th>2</th>\n",
       "      <td>1003</td>\n",
       "      <td>Abermain Public School</td>\n",
       "      <td>270.0</td>\n",
       "      <td>Primary School</td>\n",
       "      <td>Hunter</td>\n",
       "      <td>Major Cities of Australia</td>\n",
       "      <td>-32.808920</td>\n",
       "      <td>151.426499</td>\n",
       "      <td>16.028571</td>\n",
       "    </tr>\n",
       "    <tr>\n",
       "      <th>3</th>\n",
       "      <td>1007</td>\n",
       "      <td>Adaminaby Public School</td>\n",
       "      <td>19.0</td>\n",
       "      <td>Primary School</td>\n",
       "      <td>Lower South Coast</td>\n",
       "      <td>Outer Regional Australia</td>\n",
       "      <td>-35.993292</td>\n",
       "      <td>148.776721</td>\n",
       "      <td>16.028571</td>\n",
       "    </tr>\n",
       "    <tr>\n",
       "      <th>4</th>\n",
       "      <td>1008</td>\n",
       "      <td>Adamstown Public School</td>\n",
       "      <td>317.0</td>\n",
       "      <td>Primary School</td>\n",
       "      <td>Hunter</td>\n",
       "      <td>Major Cities of Australia</td>\n",
       "      <td>-32.932213</td>\n",
       "      <td>151.730971</td>\n",
       "      <td>16.028571</td>\n",
       "    </tr>\n",
       "    <tr>\n",
       "      <th>...</th>\n",
       "      <td>...</td>\n",
       "      <td>...</td>\n",
       "      <td>...</td>\n",
       "      <td>...</td>\n",
       "      <td>...</td>\n",
       "      <td>...</td>\n",
       "      <td>...</td>\n",
       "      <td>...</td>\n",
       "      <td>...</td>\n",
       "    </tr>\n",
       "    <tr>\n",
       "      <th>2213</th>\n",
       "      <td>8913</td>\n",
       "      <td>Inner Sydney High School</td>\n",
       "      <td>147.0</td>\n",
       "      <td>Secondary School</td>\n",
       "      <td>NaN</td>\n",
       "      <td>Major Cities of Australia</td>\n",
       "      <td>-33.889372</td>\n",
       "      <td>151.206030</td>\n",
       "      <td>12.450000</td>\n",
       "    </tr>\n",
       "    <tr>\n",
       "      <th>2214</th>\n",
       "      <td>8914</td>\n",
       "      <td>Centre of Excellence in Agricultural Education...</td>\n",
       "      <td>NaN</td>\n",
       "      <td>Secondary School</td>\n",
       "      <td>NaN</td>\n",
       "      <td>Major Cities of Australia</td>\n",
       "      <td>-33.614026</td>\n",
       "      <td>150.753568</td>\n",
       "      <td>12.450000</td>\n",
       "    </tr>\n",
       "    <tr>\n",
       "      <th>2215</th>\n",
       "      <td>8915</td>\n",
       "      <td>Armidale Secondary College</td>\n",
       "      <td>1149.2</td>\n",
       "      <td>Secondary School</td>\n",
       "      <td>North Western 2</td>\n",
       "      <td>Inner Regional Australia</td>\n",
       "      <td>-30.519371</td>\n",
       "      <td>151.650348</td>\n",
       "      <td>12.450000</td>\n",
       "    </tr>\n",
       "    <tr>\n",
       "      <th>2216</th>\n",
       "      <td>8916</td>\n",
       "      <td>Oran Park High School</td>\n",
       "      <td>279.0</td>\n",
       "      <td>Secondary School</td>\n",
       "      <td>NaN</td>\n",
       "      <td>Major Cities of Australia</td>\n",
       "      <td>-33.998988</td>\n",
       "      <td>150.736305</td>\n",
       "      <td>12.450000</td>\n",
       "    </tr>\n",
       "    <tr>\n",
       "      <th>2217</th>\n",
       "      <td>8917</td>\n",
       "      <td>Murrumbidgee Regional High School</td>\n",
       "      <td>1215.8</td>\n",
       "      <td>Secondary School</td>\n",
       "      <td>Riverina 1</td>\n",
       "      <td>Outer Regional Australia</td>\n",
       "      <td>-34.282315</td>\n",
       "      <td>146.070718</td>\n",
       "      <td>12.450000</td>\n",
       "    </tr>\n",
       "  </tbody>\n",
       "</table>\n",
       "<p>2218 rows × 9 columns</p>\n",
       "</div>"
      ],
      "text/plain": [
       "      School_code                                        School_name  \\\n",
       "0            1001                           Abbotsford Public School   \n",
       "1            1002                             Aberdeen Public School   \n",
       "2            1003                             Abermain Public School   \n",
       "3            1007                            Adaminaby Public School   \n",
       "4            1008                            Adamstown Public School   \n",
       "...           ...                                                ...   \n",
       "2213         8913                           Inner Sydney High School   \n",
       "2214         8914  Centre of Excellence in Agricultural Education...   \n",
       "2215         8915                         Armidale Secondary College   \n",
       "2216         8916                              Oran Park High School   \n",
       "2217         8917                  Murrumbidgee Regional High School   \n",
       "\n",
       "      latest_year_enrolment_FTE Level_of_schooling        AECG_region  \\\n",
       "0                         531.0     Primary School  Metropolitan East   \n",
       "1                         191.0     Primary School             Hunter   \n",
       "2                         270.0     Primary School             Hunter   \n",
       "3                          19.0     Primary School  Lower South Coast   \n",
       "4                         317.0     Primary School             Hunter   \n",
       "...                         ...                ...                ...   \n",
       "2213                      147.0   Secondary School                NaN   \n",
       "2214                        NaN   Secondary School                NaN   \n",
       "2215                     1149.2   Secondary School    North Western 2   \n",
       "2216                      279.0   Secondary School                NaN   \n",
       "2217                     1215.8   Secondary School         Riverina 1   \n",
       "\n",
       "                ASGS_remoteness   Latitude   Longitude      Ratio  \n",
       "0     Major Cities of Australia -33.852728  151.131206  16.028571  \n",
       "1      Inner Regional Australia -32.166098  150.888095  16.028571  \n",
       "2     Major Cities of Australia -32.808920  151.426499  16.028571  \n",
       "3      Outer Regional Australia -35.993292  148.776721  16.028571  \n",
       "4     Major Cities of Australia -32.932213  151.730971  16.028571  \n",
       "...                         ...        ...         ...        ...  \n",
       "2213  Major Cities of Australia -33.889372  151.206030  12.450000  \n",
       "2214  Major Cities of Australia -33.614026  150.753568  12.450000  \n",
       "2215   Inner Regional Australia -30.519371  151.650348  12.450000  \n",
       "2216  Major Cities of Australia -33.998988  150.736305  12.450000  \n",
       "2217   Outer Regional Australia -34.282315  146.070718  12.450000  \n",
       "\n",
       "[2218 rows x 9 columns]"
      ]
     },
     "execution_count": 282,
     "metadata": {},
     "output_type": "execute_result"
    }
   ],
   "source": [
    "new_info_gv"
   ]
  },
  {
   "cell_type": "code",
   "execution_count": 283,
   "id": "60791e6b-7789-4da2-9185-392706982d43",
   "metadata": {},
   "outputs": [
    {
     "data": {
      "text/plain": [
       "1592"
      ]
     },
     "execution_count": 283,
     "metadata": {},
     "output_type": "execute_result"
    }
   ],
   "source": [
    "len(new_info_gv[new_info_gv[\"Level_of_schooling\"] == 'Primary School'])"
   ]
  },
  {
   "cell_type": "code",
   "execution_count": 284,
   "id": "14689ff9-ce42-46e0-b628-2427ea20a70e",
   "metadata": {},
   "outputs": [
    {
     "data": {
      "text/plain": [
       "402"
      ]
     },
     "execution_count": 284,
     "metadata": {},
     "output_type": "execute_result"
    }
   ],
   "source": [
    "len(new_info_gv[new_info_gv[\"Level_of_schooling\"] == 'Secondary School'])"
   ]
  },
  {
   "cell_type": "code",
   "execution_count": 285,
   "id": "a5903084-bbb5-47d3-b441-cd9a48eb67f3",
   "metadata": {},
   "outputs": [
    {
     "data": {
      "text/plain": [
       "0.79839518555667"
      ]
     },
     "execution_count": 285,
     "metadata": {},
     "output_type": "execute_result"
    }
   ],
   "source": [
    "1592/1994"
   ]
  },
  {
   "cell_type": "code",
   "execution_count": 286,
   "id": "d0fa9c6b-aaa2-4c81-afee-20625958be78",
   "metadata": {},
   "outputs": [
    {
     "data": {
      "text/plain": [
       "0.20160481444332998"
      ]
     },
     "execution_count": 286,
     "metadata": {},
     "output_type": "execute_result"
    }
   ],
   "source": [
    "402/1994"
   ]
  },
  {
   "cell_type": "code",
   "execution_count": 287,
   "id": "67b92277-c640-4201-b5ec-15af64687137",
   "metadata": {},
   "outputs": [],
   "source": [
    "new_info_gv[\"teacher_demand\"] = new_info_gv[\"latest_year_enrolment_FTE\"]/new_info_gv[\"Ratio\"]"
   ]
  },
  {
   "cell_type": "code",
   "execution_count": 288,
   "id": "653fe81d-99ce-4380-b2e1-ff2a8c610d55",
   "metadata": {},
   "outputs": [],
   "source": [
    "new_info_gv[\"teacher_demand\"] = new_info_gv[\"teacher_demand\"].fillna(new_info_gv[\"teacher_demand\"].mean())"
   ]
  },
  {
   "cell_type": "code",
   "execution_count": 289,
   "id": "70c290db-48a5-43a0-95e6-0131f95492cd",
   "metadata": {},
   "outputs": [
    {
     "data": {
      "text/plain": [
       "58242.0"
      ]
     },
     "execution_count": 289,
     "metadata": {},
     "output_type": "execute_result"
    }
   ],
   "source": [
    "sum(round(new_info_gv[\"teacher_demand\"]+0.4))"
   ]
  },
  {
   "cell_type": "code",
   "execution_count": 292,
   "id": "0a5d8324-e6d0-45ed-a4db-709794457c07",
   "metadata": {},
   "outputs": [],
   "source": [
    "new_info_gv[\"teacher_demand\"] = round(new_info_gv[\"teacher_demand\"]+0.4)"
   ]
  },
  {
   "cell_type": "code",
   "execution_count": 294,
   "id": "d30d4c67-1637-442b-a0db-6a104f0ff294",
   "metadata": {},
   "outputs": [
    {
     "data": {
      "text/html": [
       "<div>\n",
       "<style scoped>\n",
       "    .dataframe tbody tr th:only-of-type {\n",
       "        vertical-align: middle;\n",
       "    }\n",
       "\n",
       "    .dataframe tbody tr th {\n",
       "        vertical-align: top;\n",
       "    }\n",
       "\n",
       "    .dataframe thead th {\n",
       "        text-align: right;\n",
       "    }\n",
       "</style>\n",
       "<table border=\"1\" class=\"dataframe\">\n",
       "  <thead>\n",
       "    <tr style=\"text-align: right;\">\n",
       "      <th></th>\n",
       "      <th>School_code</th>\n",
       "      <th>School_name</th>\n",
       "      <th>latest_year_enrolment_FTE</th>\n",
       "      <th>Level_of_schooling</th>\n",
       "      <th>AECG_region</th>\n",
       "      <th>ASGS_remoteness</th>\n",
       "      <th>Latitude</th>\n",
       "      <th>Longitude</th>\n",
       "      <th>Ratio</th>\n",
       "      <th>teacher_demand</th>\n",
       "    </tr>\n",
       "  </thead>\n",
       "  <tbody>\n",
       "    <tr>\n",
       "      <th>0</th>\n",
       "      <td>1001</td>\n",
       "      <td>Abbotsford Public School</td>\n",
       "      <td>531.0</td>\n",
       "      <td>Primary School</td>\n",
       "      <td>Metropolitan East</td>\n",
       "      <td>Major Cities of Australia</td>\n",
       "      <td>-33.852728</td>\n",
       "      <td>151.131206</td>\n",
       "      <td>16.028571</td>\n",
       "      <td>34.0</td>\n",
       "    </tr>\n",
       "    <tr>\n",
       "      <th>1</th>\n",
       "      <td>1002</td>\n",
       "      <td>Aberdeen Public School</td>\n",
       "      <td>191.0</td>\n",
       "      <td>Primary School</td>\n",
       "      <td>Hunter</td>\n",
       "      <td>Inner Regional Australia</td>\n",
       "      <td>-32.166098</td>\n",
       "      <td>150.888095</td>\n",
       "      <td>16.028571</td>\n",
       "      <td>12.0</td>\n",
       "    </tr>\n",
       "    <tr>\n",
       "      <th>2</th>\n",
       "      <td>1003</td>\n",
       "      <td>Abermain Public School</td>\n",
       "      <td>270.0</td>\n",
       "      <td>Primary School</td>\n",
       "      <td>Hunter</td>\n",
       "      <td>Major Cities of Australia</td>\n",
       "      <td>-32.808920</td>\n",
       "      <td>151.426499</td>\n",
       "      <td>16.028571</td>\n",
       "      <td>17.0</td>\n",
       "    </tr>\n",
       "    <tr>\n",
       "      <th>3</th>\n",
       "      <td>1007</td>\n",
       "      <td>Adaminaby Public School</td>\n",
       "      <td>19.0</td>\n",
       "      <td>Primary School</td>\n",
       "      <td>Lower South Coast</td>\n",
       "      <td>Outer Regional Australia</td>\n",
       "      <td>-35.993292</td>\n",
       "      <td>148.776721</td>\n",
       "      <td>16.028571</td>\n",
       "      <td>2.0</td>\n",
       "    </tr>\n",
       "    <tr>\n",
       "      <th>4</th>\n",
       "      <td>1008</td>\n",
       "      <td>Adamstown Public School</td>\n",
       "      <td>317.0</td>\n",
       "      <td>Primary School</td>\n",
       "      <td>Hunter</td>\n",
       "      <td>Major Cities of Australia</td>\n",
       "      <td>-32.932213</td>\n",
       "      <td>151.730971</td>\n",
       "      <td>16.028571</td>\n",
       "      <td>20.0</td>\n",
       "    </tr>\n",
       "    <tr>\n",
       "      <th>...</th>\n",
       "      <td>...</td>\n",
       "      <td>...</td>\n",
       "      <td>...</td>\n",
       "      <td>...</td>\n",
       "      <td>...</td>\n",
       "      <td>...</td>\n",
       "      <td>...</td>\n",
       "      <td>...</td>\n",
       "      <td>...</td>\n",
       "      <td>...</td>\n",
       "    </tr>\n",
       "    <tr>\n",
       "      <th>2213</th>\n",
       "      <td>8913</td>\n",
       "      <td>Inner Sydney High School</td>\n",
       "      <td>147.0</td>\n",
       "      <td>Secondary School</td>\n",
       "      <td>NaN</td>\n",
       "      <td>Major Cities of Australia</td>\n",
       "      <td>-33.889372</td>\n",
       "      <td>151.206030</td>\n",
       "      <td>12.450000</td>\n",
       "      <td>12.0</td>\n",
       "    </tr>\n",
       "    <tr>\n",
       "      <th>2214</th>\n",
       "      <td>8914</td>\n",
       "      <td>Centre of Excellence in Agricultural Education...</td>\n",
       "      <td>NaN</td>\n",
       "      <td>Secondary School</td>\n",
       "      <td>NaN</td>\n",
       "      <td>Major Cities of Australia</td>\n",
       "      <td>-33.614026</td>\n",
       "      <td>150.753568</td>\n",
       "      <td>12.450000</td>\n",
       "      <td>26.0</td>\n",
       "    </tr>\n",
       "    <tr>\n",
       "      <th>2215</th>\n",
       "      <td>8915</td>\n",
       "      <td>Armidale Secondary College</td>\n",
       "      <td>1149.2</td>\n",
       "      <td>Secondary School</td>\n",
       "      <td>North Western 2</td>\n",
       "      <td>Inner Regional Australia</td>\n",
       "      <td>-30.519371</td>\n",
       "      <td>151.650348</td>\n",
       "      <td>12.450000</td>\n",
       "      <td>93.0</td>\n",
       "    </tr>\n",
       "    <tr>\n",
       "      <th>2216</th>\n",
       "      <td>8916</td>\n",
       "      <td>Oran Park High School</td>\n",
       "      <td>279.0</td>\n",
       "      <td>Secondary School</td>\n",
       "      <td>NaN</td>\n",
       "      <td>Major Cities of Australia</td>\n",
       "      <td>-33.998988</td>\n",
       "      <td>150.736305</td>\n",
       "      <td>12.450000</td>\n",
       "      <td>23.0</td>\n",
       "    </tr>\n",
       "    <tr>\n",
       "      <th>2217</th>\n",
       "      <td>8917</td>\n",
       "      <td>Murrumbidgee Regional High School</td>\n",
       "      <td>1215.8</td>\n",
       "      <td>Secondary School</td>\n",
       "      <td>Riverina 1</td>\n",
       "      <td>Outer Regional Australia</td>\n",
       "      <td>-34.282315</td>\n",
       "      <td>146.070718</td>\n",
       "      <td>12.450000</td>\n",
       "      <td>98.0</td>\n",
       "    </tr>\n",
       "  </tbody>\n",
       "</table>\n",
       "<p>2218 rows × 10 columns</p>\n",
       "</div>"
      ],
      "text/plain": [
       "      School_code                                        School_name  \\\n",
       "0            1001                           Abbotsford Public School   \n",
       "1            1002                             Aberdeen Public School   \n",
       "2            1003                             Abermain Public School   \n",
       "3            1007                            Adaminaby Public School   \n",
       "4            1008                            Adamstown Public School   \n",
       "...           ...                                                ...   \n",
       "2213         8913                           Inner Sydney High School   \n",
       "2214         8914  Centre of Excellence in Agricultural Education...   \n",
       "2215         8915                         Armidale Secondary College   \n",
       "2216         8916                              Oran Park High School   \n",
       "2217         8917                  Murrumbidgee Regional High School   \n",
       "\n",
       "      latest_year_enrolment_FTE Level_of_schooling        AECG_region  \\\n",
       "0                         531.0     Primary School  Metropolitan East   \n",
       "1                         191.0     Primary School             Hunter   \n",
       "2                         270.0     Primary School             Hunter   \n",
       "3                          19.0     Primary School  Lower South Coast   \n",
       "4                         317.0     Primary School             Hunter   \n",
       "...                         ...                ...                ...   \n",
       "2213                      147.0   Secondary School                NaN   \n",
       "2214                        NaN   Secondary School                NaN   \n",
       "2215                     1149.2   Secondary School    North Western 2   \n",
       "2216                      279.0   Secondary School                NaN   \n",
       "2217                     1215.8   Secondary School         Riverina 1   \n",
       "\n",
       "                ASGS_remoteness   Latitude   Longitude      Ratio  \\\n",
       "0     Major Cities of Australia -33.852728  151.131206  16.028571   \n",
       "1      Inner Regional Australia -32.166098  150.888095  16.028571   \n",
       "2     Major Cities of Australia -32.808920  151.426499  16.028571   \n",
       "3      Outer Regional Australia -35.993292  148.776721  16.028571   \n",
       "4     Major Cities of Australia -32.932213  151.730971  16.028571   \n",
       "...                         ...        ...         ...        ...   \n",
       "2213  Major Cities of Australia -33.889372  151.206030  12.450000   \n",
       "2214  Major Cities of Australia -33.614026  150.753568  12.450000   \n",
       "2215   Inner Regional Australia -30.519371  151.650348  12.450000   \n",
       "2216  Major Cities of Australia -33.998988  150.736305  12.450000   \n",
       "2217   Outer Regional Australia -34.282315  146.070718  12.450000   \n",
       "\n",
       "      teacher_demand  \n",
       "0               34.0  \n",
       "1               12.0  \n",
       "2               17.0  \n",
       "3                2.0  \n",
       "4               20.0  \n",
       "...              ...  \n",
       "2213            12.0  \n",
       "2214            26.0  \n",
       "2215            93.0  \n",
       "2216            23.0  \n",
       "2217            98.0  \n",
       "\n",
       "[2218 rows x 10 columns]"
      ]
     },
     "execution_count": 294,
     "metadata": {},
     "output_type": "execute_result"
    }
   ],
   "source": [
    "new_info_gv"
   ]
  },
  {
   "cell_type": "code",
   "execution_count": 295,
   "id": "df9b0276-0ce0-4697-b893-2522ba771239",
   "metadata": {},
   "outputs": [],
   "source": [
    "new_info_gv.to_csv(\"/Users/juliusguenthoer/Documents/GitHub/MakeIT/NSW/new_info_gv.csv\")"
   ]
  },
  {
   "cell_type": "code",
   "execution_count": null,
   "id": "d0e805f4-3993-4014-8e62-30903853d796",
   "metadata": {},
   "outputs": [],
   "source": [
    "from numpy.random import choice"
   ]
  },
  {
   "cell_type": "code",
   "execution_count": 249,
   "id": "ae56147e-ee2e-499d-b1a0-3b97490db0a3",
   "metadata": {},
   "outputs": [],
   "source": [
    "tea_numb = np.arange(1,50001,1)"
   ]
  },
  {
   "cell_type": "code",
   "execution_count": 250,
   "id": "e2ee814b-90bf-46af-8d55-08d2a0eb5d1f",
   "metadata": {},
   "outputs": [],
   "source": [
    "tea_numb = map(str, tea_numb)"
   ]
  },
  {
   "cell_type": "code",
   "execution_count": 251,
   "id": "72a3f860-71b1-4c1c-a734-970ff8fc964d",
   "metadata": {},
   "outputs": [],
   "source": [
    "tea_pre = np.repeat(\"T\",[50000])"
   ]
  },
  {
   "cell_type": "code",
   "execution_count": 252,
   "id": "9eed56be-008a-45a4-a070-6e8663b34ece",
   "metadata": {},
   "outputs": [
    {
     "data": {
      "text/plain": [
       "array(['T', 'T', 'T', ..., 'T', 'T', 'T'], dtype='<U1')"
      ]
     },
     "execution_count": 252,
     "metadata": {},
     "output_type": "execute_result"
    }
   ],
   "source": [
    "tea_pre"
   ]
  },
  {
   "cell_type": "code",
   "execution_count": 253,
   "id": "d723e32c-bf22-4659-b361-d12599a130ec",
   "metadata": {},
   "outputs": [],
   "source": [
    "genders= [\"M\",\"F\"]"
   ]
  },
  {
   "cell_type": "code",
   "execution_count": 254,
   "id": "d04adfd8-6612-43a0-894e-c659b1279bfc",
   "metadata": {},
   "outputs": [],
   "source": [
    "genders_draw = choice(genders,50000,p = [0.276,0.724])"
   ]
  },
  {
   "cell_type": "code",
   "execution_count": 255,
   "id": "fa223c59-9f9f-465b-95a1-f90caa3fc58b",
   "metadata": {},
   "outputs": [],
   "source": [
    "subjects = [\"Reading\",\"Math\",\"Science\",\"Social Studies\",\"Student Life\",\"Writing\",\"Sp Ed\",\"Technology\",\"Data Team\",\"ILT\"]"
   ]
  },
  {
   "cell_type": "code",
   "execution_count": 256,
   "id": "46eb1d71-0fe1-42d6-bf40-6dd8396005c1",
   "metadata": {},
   "outputs": [],
   "source": [
    "subjects_draw = choice(subjects,50000,p = [1/10,1/10,1/10,1/10,1/10,1/10,1/10,1/10,1/10,1/10])"
   ]
  },
  {
   "cell_type": "code",
   "execution_count": 257,
   "id": "b5e7efb7-6ba2-4bbe-891d-2adf04e8de04",
   "metadata": {},
   "outputs": [],
   "source": [
    "teacher_dict = {\"T\": tea_pre,\"Numb\":tea_numb,\"Genders\": genders_draw,\"Subject\": subjects_draw,\"Type_preference\":Type_preference,\"Experience_level\":experience_draw}"
   ]
  },
  {
   "cell_type": "code",
   "execution_count": 258,
   "id": "a97b0331-168d-4e30-bb28-ab3a76f2b0b6",
   "metadata": {},
   "outputs": [],
   "source": [
    "teachers = pd.DataFrame.from_dict(teacher_dict)"
   ]
  },
  {
   "cell_type": "code",
   "execution_count": 259,
   "id": "28fd8db2-fa86-4a2d-aa28-5ef220a40c61",
   "metadata": {},
   "outputs": [],
   "source": [
    "teachers[\"Teacher_ID\"] = teachers[\"T\"] + teachers[\"Numb\"]\n",
    "del(teachers[\"T\"])\n",
    "del(teachers[\"Numb\"])"
   ]
  },
  {
   "cell_type": "code",
   "execution_count": 260,
   "id": "b17433c6-6e3c-46d3-ac99-09cd428790b4",
   "metadata": {},
   "outputs": [],
   "source": [
    "school_type = [\"Primary School\",\"Secondary School\"]"
   ]
  },
  {
   "cell_type": "code",
   "execution_count": 261,
   "id": "ea4e7416-1e7b-495a-8ce8-65e8b6b20fe6",
   "metadata": {},
   "outputs": [],
   "source": [
    "Type_preference = choice(school_type,50000,p=[0.79839518555667,0.20160481444332998])"
   ]
  },
  {
   "cell_type": "code",
   "execution_count": 262,
   "id": "c69b4aad-5d3e-42d7-a70f-38612b673cd5",
   "metadata": {},
   "outputs": [],
   "source": [
    "employed = pd.read_csv(\"/Users/juliusguenthoer/Documents/GitHub/MakeIT/NSW/2016-years-of-employment.csv\")"
   ]
  },
  {
   "cell_type": "code",
   "execution_count": 263,
   "id": "0aa6b5f3-a975-42a4-9a60-c6c5d940c2b1",
   "metadata": {},
   "outputs": [],
   "source": [
    "experience = [5,4,3,2,1]"
   ]
  },
  {
   "cell_type": "code",
   "execution_count": 264,
   "id": "b4661f33-105b-423e-9531-316e4ac09593",
   "metadata": {},
   "outputs": [],
   "source": [
    "experience_draw = choice(experience,50000,p =[0.2863,0.0916,0.1573,0.1648,0.3])"
   ]
  },
  {
   "cell_type": "code",
   "execution_count": 265,
   "id": "984df36f-6034-4373-9836-423630ca6d4d",
   "metadata": {},
   "outputs": [],
   "source": [
    "teachers = teachers[[\"Teacher_ID\", \"Genders\", \"Subject\",\"Type_preference\",\"Experience_level\"]]"
   ]
  },
  {
   "cell_type": "code",
   "execution_count": 266,
   "id": "0416e8c6-8ec7-4a4f-9e8b-225ae42a6db7",
   "metadata": {},
   "outputs": [
    {
     "data": {
      "text/html": [
       "<div>\n",
       "<style scoped>\n",
       "    .dataframe tbody tr th:only-of-type {\n",
       "        vertical-align: middle;\n",
       "    }\n",
       "\n",
       "    .dataframe tbody tr th {\n",
       "        vertical-align: top;\n",
       "    }\n",
       "\n",
       "    .dataframe thead th {\n",
       "        text-align: right;\n",
       "    }\n",
       "</style>\n",
       "<table border=\"1\" class=\"dataframe\">\n",
       "  <thead>\n",
       "    <tr style=\"text-align: right;\">\n",
       "      <th></th>\n",
       "      <th>Teacher_ID</th>\n",
       "      <th>Genders</th>\n",
       "      <th>Subject</th>\n",
       "      <th>Type_preference</th>\n",
       "      <th>Experience_level</th>\n",
       "    </tr>\n",
       "  </thead>\n",
       "  <tbody>\n",
       "    <tr>\n",
       "      <th>0</th>\n",
       "      <td>T1</td>\n",
       "      <td>F</td>\n",
       "      <td>Writing</td>\n",
       "      <td>Primary School</td>\n",
       "      <td>4</td>\n",
       "    </tr>\n",
       "    <tr>\n",
       "      <th>1</th>\n",
       "      <td>T2</td>\n",
       "      <td>F</td>\n",
       "      <td>Data Team</td>\n",
       "      <td>Primary School</td>\n",
       "      <td>5</td>\n",
       "    </tr>\n",
       "    <tr>\n",
       "      <th>2</th>\n",
       "      <td>T3</td>\n",
       "      <td>M</td>\n",
       "      <td>Technology</td>\n",
       "      <td>Primary School</td>\n",
       "      <td>4</td>\n",
       "    </tr>\n",
       "    <tr>\n",
       "      <th>3</th>\n",
       "      <td>T4</td>\n",
       "      <td>F</td>\n",
       "      <td>Social Studies</td>\n",
       "      <td>Primary School</td>\n",
       "      <td>5</td>\n",
       "    </tr>\n",
       "    <tr>\n",
       "      <th>4</th>\n",
       "      <td>T5</td>\n",
       "      <td>F</td>\n",
       "      <td>Technology</td>\n",
       "      <td>Primary School</td>\n",
       "      <td>1</td>\n",
       "    </tr>\n",
       "    <tr>\n",
       "      <th>...</th>\n",
       "      <td>...</td>\n",
       "      <td>...</td>\n",
       "      <td>...</td>\n",
       "      <td>...</td>\n",
       "      <td>...</td>\n",
       "    </tr>\n",
       "    <tr>\n",
       "      <th>49995</th>\n",
       "      <td>T49996</td>\n",
       "      <td>F</td>\n",
       "      <td>ILT</td>\n",
       "      <td>Primary School</td>\n",
       "      <td>1</td>\n",
       "    </tr>\n",
       "    <tr>\n",
       "      <th>49996</th>\n",
       "      <td>T49997</td>\n",
       "      <td>M</td>\n",
       "      <td>Student Life</td>\n",
       "      <td>Primary School</td>\n",
       "      <td>3</td>\n",
       "    </tr>\n",
       "    <tr>\n",
       "      <th>49997</th>\n",
       "      <td>T49998</td>\n",
       "      <td>F</td>\n",
       "      <td>Sp Ed</td>\n",
       "      <td>Primary School</td>\n",
       "      <td>2</td>\n",
       "    </tr>\n",
       "    <tr>\n",
       "      <th>49998</th>\n",
       "      <td>T49999</td>\n",
       "      <td>F</td>\n",
       "      <td>Sp Ed</td>\n",
       "      <td>Primary School</td>\n",
       "      <td>1</td>\n",
       "    </tr>\n",
       "    <tr>\n",
       "      <th>49999</th>\n",
       "      <td>T50000</td>\n",
       "      <td>M</td>\n",
       "      <td>Student Life</td>\n",
       "      <td>Primary School</td>\n",
       "      <td>2</td>\n",
       "    </tr>\n",
       "  </tbody>\n",
       "</table>\n",
       "<p>50000 rows × 5 columns</p>\n",
       "</div>"
      ],
      "text/plain": [
       "      Teacher_ID Genders         Subject Type_preference  Experience_level\n",
       "0             T1       F         Writing  Primary School                 4\n",
       "1             T2       F       Data Team  Primary School                 5\n",
       "2             T3       M      Technology  Primary School                 4\n",
       "3             T4       F  Social Studies  Primary School                 5\n",
       "4             T5       F      Technology  Primary School                 1\n",
       "...          ...     ...             ...             ...               ...\n",
       "49995     T49996       F             ILT  Primary School                 1\n",
       "49996     T49997       M    Student Life  Primary School                 3\n",
       "49997     T49998       F           Sp Ed  Primary School                 2\n",
       "49998     T49999       F           Sp Ed  Primary School                 1\n",
       "49999     T50000       M    Student Life  Primary School                 2\n",
       "\n",
       "[50000 rows x 5 columns]"
      ]
     },
     "execution_count": 266,
     "metadata": {},
     "output_type": "execute_result"
    }
   ],
   "source": [
    "teachers"
   ]
  },
  {
   "cell_type": "code",
   "execution_count": null,
   "id": "fbe7a1d9-6697-4cf2-929e-cdfc511c0766",
   "metadata": {},
   "outputs": [],
   "source": [
    "#numeric version"
   ]
  },
  {
   "cell_type": "code",
   "execution_count": 267,
   "id": "7efce418-e07e-4aef-8164-943cdbc32896",
   "metadata": {},
   "outputs": [
    {
     "ename": "NameError",
     "evalue": "name 'list_of_candidates' is not defined",
     "output_type": "error",
     "traceback": [
      "\u001b[0;31m---------------------------------------------------------------------------\u001b[0m",
      "\u001b[0;31mNameError\u001b[0m                                 Traceback (most recent call last)",
      "\u001b[0;32m<ipython-input-267-63f2174281dc>\u001b[0m in \u001b[0;36m<module>\u001b[0;34m\u001b[0m\n\u001b[0;32m----> 1\u001b[0;31m draw = choice(list_of_candidates, number_of_items_to_pick,\n\u001b[0m\u001b[1;32m      2\u001b[0m               p=probability_distribution)\n",
      "\u001b[0;31mNameError\u001b[0m: name 'list_of_candidates' is not defined"
     ]
    }
   ],
   "source": [
    "draw = choice(list_of_candidates, number_of_items_to_pick,\n",
    "              p=probability_distribution)"
   ]
  },
  {
   "cell_type": "code",
   "execution_count": 209,
   "id": "40ca713d-dc59-4cab-a243-bea0c60fbda1",
   "metadata": {},
   "outputs": [
    {
     "data": {
      "text/plain": [
       "1.0001"
      ]
     },
     "execution_count": 209,
     "metadata": {},
     "output_type": "execute_result"
    }
   ],
   "source": [
    "0.2863+0.0916+0.1573+0.16480.3001)"
   ]
  },
  {
   "cell_type": "code",
   "execution_count": 237,
   "id": "dda4e8d0-f868-4a6e-b307-9ab3b78442cf",
   "metadata": {},
   "outputs": [],
   "source": [
    "gender_numeric = {\"M\": 0, \"F\": 1}"
   ]
  },
  {
   "cell_type": "code",
   "execution_count": 268,
   "id": "78674739-57b2-4bcb-97f1-bb8033b45f32",
   "metadata": {},
   "outputs": [
    {
     "ename": "NameError",
     "evalue": "name 'teachers_numeric' is not defined",
     "output_type": "error",
     "traceback": [
      "\u001b[0;31m---------------------------------------------------------------------------\u001b[0m",
      "\u001b[0;31mNameError\u001b[0m                                 Traceback (most recent call last)",
      "\u001b[0;32m<ipython-input-268-75c2fe618666>\u001b[0m in \u001b[0;36m<module>\u001b[0;34m\u001b[0m\n\u001b[0;32m----> 1\u001b[0;31m \u001b[0mteachers_numeric\u001b[0m\u001b[0;34m[\u001b[0m\u001b[0;34m\"Genders\"\u001b[0m\u001b[0;34m]\u001b[0m \u001b[0;34m=\u001b[0m \u001b[0mteachers\u001b[0m\u001b[0;34m[\u001b[0m\u001b[0;34m\"Genders\"\u001b[0m\u001b[0;34m]\u001b[0m\u001b[0;34m.\u001b[0m\u001b[0mmap\u001b[0m\u001b[0;34m(\u001b[0m\u001b[0mgender_numeric\u001b[0m\u001b[0;34m)\u001b[0m\u001b[0;34m\u001b[0m\u001b[0;34m\u001b[0m\u001b[0m\n\u001b[0m",
      "\u001b[0;31mNameError\u001b[0m: name 'teachers_numeric' is not defined"
     ]
    }
   ],
   "source": [
    "teachers[\"Genders\"] = teachers[\"Genders\"].map(gender_numeric)"
   ]
  },
  {
   "cell_type": "code",
   "execution_count": 243,
   "id": "13713de9-812d-46f9-a8ad-efae277dac66",
   "metadata": {},
   "outputs": [],
   "source": [
    "subject_numeric = {\"Reading\":1,\"Math\":2,\"Science\":3,\"Social Studies\":4,\"Student Life\":5,\"Writing\":6,\"Sp Ed\":7,\"Technology\":8,\"Data Team\":9,\"ILT\":10}"
   ]
  },
  {
   "cell_type": "code",
   "execution_count": 244,
   "id": "2fcde072-a241-4d01-82c7-22ad8dd216e6",
   "metadata": {},
   "outputs": [],
   "source": [
    "teachers[\"Subject\"] = teachers[\"Subject\"].map(subject_numeric)"
   ]
  },
  {
   "cell_type": "code",
   "execution_count": 248,
   "id": "33e5d801-7598-474f-b627-b5dac5dac0a1",
   "metadata": {},
   "outputs": [
    {
     "data": {
      "text/html": [
       "<div>\n",
       "<style scoped>\n",
       "    .dataframe tbody tr th:only-of-type {\n",
       "        vertical-align: middle;\n",
       "    }\n",
       "\n",
       "    .dataframe tbody tr th {\n",
       "        vertical-align: top;\n",
       "    }\n",
       "\n",
       "    .dataframe thead th {\n",
       "        text-align: right;\n",
       "    }\n",
       "</style>\n",
       "<table border=\"1\" class=\"dataframe\">\n",
       "  <thead>\n",
       "    <tr style=\"text-align: right;\">\n",
       "      <th></th>\n",
       "      <th>Teacher_ID</th>\n",
       "      <th>Genders</th>\n",
       "      <th>Subject</th>\n",
       "      <th>Type_preference</th>\n",
       "      <th>Experience_level</th>\n",
       "    </tr>\n",
       "  </thead>\n",
       "  <tbody>\n",
       "    <tr>\n",
       "      <th>0</th>\n",
       "      <td>T1</td>\n",
       "      <td>1</td>\n",
       "      <td>2</td>\n",
       "      <td>0</td>\n",
       "      <td>4</td>\n",
       "    </tr>\n",
       "    <tr>\n",
       "      <th>1</th>\n",
       "      <td>T2</td>\n",
       "      <td>1</td>\n",
       "      <td>8</td>\n",
       "      <td>0</td>\n",
       "      <td>5</td>\n",
       "    </tr>\n",
       "    <tr>\n",
       "      <th>2</th>\n",
       "      <td>T3</td>\n",
       "      <td>0</td>\n",
       "      <td>9</td>\n",
       "      <td>0</td>\n",
       "      <td>2</td>\n",
       "    </tr>\n",
       "    <tr>\n",
       "      <th>3</th>\n",
       "      <td>T4</td>\n",
       "      <td>0</td>\n",
       "      <td>4</td>\n",
       "      <td>0</td>\n",
       "      <td>1</td>\n",
       "    </tr>\n",
       "    <tr>\n",
       "      <th>4</th>\n",
       "      <td>T5</td>\n",
       "      <td>1</td>\n",
       "      <td>8</td>\n",
       "      <td>1</td>\n",
       "      <td>3</td>\n",
       "    </tr>\n",
       "    <tr>\n",
       "      <th>...</th>\n",
       "      <td>...</td>\n",
       "      <td>...</td>\n",
       "      <td>...</td>\n",
       "      <td>...</td>\n",
       "      <td>...</td>\n",
       "    </tr>\n",
       "    <tr>\n",
       "      <th>49995</th>\n",
       "      <td>T49996</td>\n",
       "      <td>1</td>\n",
       "      <td>9</td>\n",
       "      <td>0</td>\n",
       "      <td>3</td>\n",
       "    </tr>\n",
       "    <tr>\n",
       "      <th>49996</th>\n",
       "      <td>T49997</td>\n",
       "      <td>1</td>\n",
       "      <td>9</td>\n",
       "      <td>1</td>\n",
       "      <td>3</td>\n",
       "    </tr>\n",
       "    <tr>\n",
       "      <th>49997</th>\n",
       "      <td>T49998</td>\n",
       "      <td>1</td>\n",
       "      <td>2</td>\n",
       "      <td>0</td>\n",
       "      <td>1</td>\n",
       "    </tr>\n",
       "    <tr>\n",
       "      <th>49998</th>\n",
       "      <td>T49999</td>\n",
       "      <td>1</td>\n",
       "      <td>5</td>\n",
       "      <td>0</td>\n",
       "      <td>2</td>\n",
       "    </tr>\n",
       "    <tr>\n",
       "      <th>49999</th>\n",
       "      <td>T50000</td>\n",
       "      <td>1</td>\n",
       "      <td>8</td>\n",
       "      <td>1</td>\n",
       "      <td>5</td>\n",
       "    </tr>\n",
       "  </tbody>\n",
       "</table>\n",
       "<p>50000 rows × 5 columns</p>\n",
       "</div>"
      ],
      "text/plain": [
       "      Teacher_ID  Genders  Subject  Type_preference  Experience_level\n",
       "0             T1        1        2                0                 4\n",
       "1             T2        1        8                0                 5\n",
       "2             T3        0        9                0                 2\n",
       "3             T4        0        4                0                 1\n",
       "4             T5        1        8                1                 3\n",
       "...          ...      ...      ...              ...               ...\n",
       "49995     T49996        1        9                0                 3\n",
       "49996     T49997        1        9                1                 3\n",
       "49997     T49998        1        2                0                 1\n",
       "49998     T49999        1        5                0                 2\n",
       "49999     T50000        1        8                1                 5\n",
       "\n",
       "[50000 rows x 5 columns]"
      ]
     },
     "execution_count": 248,
     "metadata": {},
     "output_type": "execute_result"
    }
   ],
   "source": [
    "teachers"
   ]
  },
  {
   "cell_type": "code",
   "execution_count": 246,
   "id": "7c944583-66a5-48d8-a0fb-ead65285486c",
   "metadata": {},
   "outputs": [],
   "source": [
    "type_numeric = {\"Primary School\":0,\"Secondary School\":1}"
   ]
  },
  {
   "cell_type": "code",
   "execution_count": 247,
   "id": "2edf6216-dfcf-48ae-8abd-c5783c35d56e",
   "metadata": {},
   "outputs": [],
   "source": [
    "teachers[\"Type_preference\"] = teachers[\"Type_preference\"].map(type_numeric)"
   ]
  },
  {
   "cell_type": "code",
   "execution_count": null,
   "id": "14e0aa27-ef9c-4a6a-8f47-aa3c38e58c84",
   "metadata": {},
   "outputs": [],
   "source": []
  }
 ],
 "metadata": {
  "kernelspec": {
   "display_name": "Python 3",
   "language": "python",
   "name": "python3"
  },
  "language_info": {
   "codemirror_mode": {
    "name": "ipython",
    "version": 3
   },
   "file_extension": ".py",
   "mimetype": "text/x-python",
   "name": "python",
   "nbconvert_exporter": "python",
   "pygments_lexer": "ipython3",
   "version": "3.8.8"
  }
 },
 "nbformat": 4,
 "nbformat_minor": 5
}
