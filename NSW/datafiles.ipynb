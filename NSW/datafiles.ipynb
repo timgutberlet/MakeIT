{
 "cells": [
  {
   "cell_type": "code",
   "execution_count": 128,
   "id": "8f649674-7e77-43b7-b7bd-3824dab89177",
   "metadata": {},
   "outputs": [],
   "source": [
    "import numpy as np\n",
    "import pandas as pd\n",
    "import math as math"
   ]
  },
  {
   "cell_type": "code",
   "execution_count": 129,
   "id": "3ef5d235-9035-4c68-8b47-61e6bf52dadb",
   "metadata": {},
   "outputs": [],
   "source": [
    "info_gv = pd.read_csv(\"/Users/juliusguenthoer/Documents/GitHub/MakeIT/NSW/master_dataset_PublicSchool.csv\")\n",
    "\n",
    "list_of_int = [\"School_code\",\"School_name\",\"latest_year_enrolment_FTE\",\"Level_of_schooling\",\"AECG_region\",\"ASGS_remoteness\",\"Latitude\",\"Longitude\"]"
   ]
  },
  {
   "cell_type": "code",
   "execution_count": null,
   "id": "78f24317-0f4d-4320-8111-c472fb61f1af",
   "metadata": {},
   "outputs": [],
   "source": [
    "new_info_gv = info_gv[list_of_int]"
   ]
  },
  {
   "cell_type": "code",
   "execution_count": null,
   "id": "880809a2-49ad-41bd-9205-fe87f26314de",
   "metadata": {},
   "outputs": [],
   "source": [
    "new_info_gv"
   ]
  },
  {
   "cell_type": "code",
   "execution_count": null,
   "id": "a5fde82b-65fd-4a9d-ab0c-e7759d81e75f",
   "metadata": {},
   "outputs": [],
   "source": [
    "teacher_student_ratio = pd.read_csv(\"/Users/juliusguenthoer/Documents/GitHub/MakeIT/NSW/2006-2016-student-to-teacher-ratio.csv\")"
   ]
  },
  {
   "cell_type": "code",
   "execution_count": null,
   "id": "49a7b3db-926d-4933-a2ce-79190e5aa1b2",
   "metadata": {},
   "outputs": [],
   "source": [
    "teacher_student_ratio"
   ]
  },
  {
   "cell_type": "code",
   "execution_count": null,
   "id": "46c6682e-8de8-4ede-8311-1d1e40239c8f",
   "metadata": {},
   "outputs": [],
   "source": [
    "d={\"Level_of_schooling\":[\"Primary School\",\"Secondary School\",\"Central/Community School\",\"Schools for Specific Purposes\",\"Environmental Education Centre\",'Infants School','Other School'],\"Ratio\":[16.02857142857143,12.450000000000001,14.35,14.35,14.35,16.02857142857143,14.35]}"
   ]
  },
  {
   "cell_type": "code",
   "execution_count": null,
   "id": "29c38779-6c1d-4f6e-9341-1492a0dc6374",
   "metadata": {},
   "outputs": [],
   "source": [
    "ratio = pd.DataFrame.from_dict(d)"
   ]
  },
  {
   "cell_type": "code",
   "execution_count": null,
   "id": "07ff2f6e-72b1-47b7-8edd-49a04920b0a8",
   "metadata": {},
   "outputs": [],
   "source": [
    "ratio"
   ]
  },
  {
   "cell_type": "code",
   "execution_count": null,
   "id": "092a77c8-b4e6-4fc8-aeb8-95b765a7316b",
   "metadata": {},
   "outputs": [],
   "source": [
    "new_info_gv = pd.merge(new_info_gv,ratio, how = \"inner\", on = \"Level_of_schooling\")"
   ]
  },
  {
   "cell_type": "code",
   "execution_count": null,
   "id": "5738f56a-e520-4919-90ec-11343b1d4390",
   "metadata": {},
   "outputs": [],
   "source": [
    "new_info_gv[\"Level_of_schooling\"][60]"
   ]
  },
  {
   "cell_type": "code",
   "execution_count": 131,
   "id": "c6af1302-e82b-4cf4-a697-5681abac2d9c",
   "metadata": {},
   "outputs": [],
   "source": [
    "pd.set_option(\"display.max_columns\",1000)"
   ]
  },
  {
   "cell_type": "code",
   "execution_count": null,
   "id": "ea748817-f4ce-4dea-a7e9-92b31f4c3f6d",
   "metadata": {},
   "outputs": [],
   "source": [
    "np.unique(new_info_gv[\"Level_of_schooling\"])"
   ]
  },
  {
   "cell_type": "code",
   "execution_count": null,
   "id": "31ae8d17-ff12-4505-a96b-4b7c8158dac1",
   "metadata": {},
   "outputs": [],
   "source": [
    "new_info_gv"
   ]
  },
  {
   "cell_type": "code",
   "execution_count": 136,
   "id": "60791e6b-7789-4da2-9185-392706982d43",
   "metadata": {},
   "outputs": [
    {
     "data": {
      "text/plain": [
       "1592"
      ]
     },
     "execution_count": 136,
     "metadata": {},
     "output_type": "execute_result"
    }
   ],
   "source": [
    "len(new_info_gv[new_info_gv[\"Level_of_schooling\"] == 'Primary School'])"
   ]
  },
  {
   "cell_type": "code",
   "execution_count": 137,
   "id": "14689ff9-ce42-46e0-b628-2427ea20a70e",
   "metadata": {},
   "outputs": [
    {
     "data": {
      "text/plain": [
       "402"
      ]
     },
     "execution_count": 137,
     "metadata": {},
     "output_type": "execute_result"
    }
   ],
   "source": [
    "len(new_info_gv[new_info_gv[\"Level_of_schooling\"] == 'Secondary School'])"
   ]
  },
  {
   "cell_type": "code",
   "execution_count": 141,
   "id": "a5903084-bbb5-47d3-b441-cd9a48eb67f3",
   "metadata": {},
   "outputs": [
    {
     "data": {
      "text/plain": [
       "0.79839518555667"
      ]
     },
     "execution_count": 141,
     "metadata": {},
     "output_type": "execute_result"
    }
   ],
   "source": [
    "1592/1994"
   ]
  },
  {
   "cell_type": "code",
   "execution_count": 140,
   "id": "d0fa9c6b-aaa2-4c81-afee-20625958be78",
   "metadata": {},
   "outputs": [
    {
     "data": {
      "text/plain": [
       "0.20160481444332998"
      ]
     },
     "execution_count": 140,
     "metadata": {},
     "output_type": "execute_result"
    }
   ],
   "source": [
    "402/1994"
   ]
  },
  {
   "cell_type": "code",
   "execution_count": null,
   "id": "67b92277-c640-4201-b5ec-15af64687137",
   "metadata": {},
   "outputs": [],
   "source": [
    "new_info_gv[\"teacher_demand\"] = new_info_gv[\"latest_year_enrolment_FTE\"]/new_info_gv[\"Ratio\"]"
   ]
  },
  {
   "cell_type": "code",
   "execution_count": null,
   "id": "653fe81d-99ce-4380-b2e1-ff2a8c610d55",
   "metadata": {},
   "outputs": [],
   "source": [
    "new_info_gv[\"teacher_demand\"] = new_info_gv[\"teacher_demand\"].fillna(new_info_gv[\"teacher_demand\"].mean())"
   ]
  },
  {
   "cell_type": "code",
   "execution_count": null,
   "id": "70c290db-48a5-43a0-95e6-0131f95492cd",
   "metadata": {},
   "outputs": [],
   "source": [
    "sum(round(new_info_gv[\"teacher_demand\"]+0.4))"
   ]
  },
  {
   "cell_type": "code",
   "execution_count": null,
   "id": "0a5d8324-e6d0-45ed-a4db-709794457c07",
   "metadata": {},
   "outputs": [],
   "source": [
    "new_info_gv"
   ]
  },
  {
   "cell_type": "code",
   "execution_count": null,
   "id": "d0e805f4-3993-4014-8e62-30903853d796",
   "metadata": {},
   "outputs": [],
   "source": [
    "from numpy.random import choice"
   ]
  },
  {
   "cell_type": "code",
   "execution_count": 211,
   "id": "ae56147e-ee2e-499d-b1a0-3b97490db0a3",
   "metadata": {},
   "outputs": [],
   "source": [
    "tea_numb = np.arange(1,50001,1)"
   ]
  },
  {
   "cell_type": "code",
   "execution_count": 212,
   "id": "e2ee814b-90bf-46af-8d55-08d2a0eb5d1f",
   "metadata": {},
   "outputs": [],
   "source": [
    "tea_numb = map(str, tea_numb)"
   ]
  },
  {
   "cell_type": "code",
   "execution_count": 213,
   "id": "72a3f860-71b1-4c1c-a734-970ff8fc964d",
   "metadata": {},
   "outputs": [],
   "source": [
    "tea_pre = np.repeat(\"T\",[50000])"
   ]
  },
  {
   "cell_type": "code",
   "execution_count": 214,
   "id": "9eed56be-008a-45a4-a070-6e8663b34ece",
   "metadata": {},
   "outputs": [
    {
     "data": {
      "text/plain": [
       "array(['T', 'T', 'T', ..., 'T', 'T', 'T'], dtype='<U1')"
      ]
     },
     "execution_count": 214,
     "metadata": {},
     "output_type": "execute_result"
    }
   ],
   "source": [
    "tea_pre"
   ]
  },
  {
   "cell_type": "code",
   "execution_count": 215,
   "id": "d723e32c-bf22-4659-b361-d12599a130ec",
   "metadata": {},
   "outputs": [],
   "source": [
    "genders= [\"M\",\"F\"]"
   ]
  },
  {
   "cell_type": "code",
   "execution_count": 216,
   "id": "d04adfd8-6612-43a0-894e-c659b1279bfc",
   "metadata": {},
   "outputs": [],
   "source": [
    "genders_draw = choice(genders,50000,p = [0.276,0.724])"
   ]
  },
  {
   "cell_type": "code",
   "execution_count": 217,
   "id": "fa223c59-9f9f-465b-95a1-f90caa3fc58b",
   "metadata": {},
   "outputs": [],
   "source": [
    "subjects = [\"Reading\",\"Math\",\"Science\",\"Social Studies\",\"Student Life\",\"Writing\",\"Sp Ed\",\"Technology\",\"Data Team\",\"ILT\"]"
   ]
  },
  {
   "cell_type": "code",
   "execution_count": 218,
   "id": "46eb1d71-0fe1-42d6-bf40-6dd8396005c1",
   "metadata": {},
   "outputs": [],
   "source": [
    "subjects_draw = choice(subjects,50000,p = [1/10,1/10,1/10,1/10,1/10,1/10,1/10,1/10,1/10,1/10])"
   ]
  },
  {
   "cell_type": "code",
   "execution_count": 221,
   "id": "b5e7efb7-6ba2-4bbe-891d-2adf04e8de04",
   "metadata": {},
   "outputs": [],
   "source": [
    "teacher_dict = {\"T\": tea_pre,\"Numb\":tea_numb,\"Genders\": genders_draw,\"Subject\": subjects_draw,\"Type_preference\":Type_preference,\"Experience_level\":experience_draw}"
   ]
  },
  {
   "cell_type": "code",
   "execution_count": 222,
   "id": "a97b0331-168d-4e30-bb28-ab3a76f2b0b6",
   "metadata": {},
   "outputs": [],
   "source": [
    "teachers = pd.DataFrame.from_dict(teacher_dict)"
   ]
  },
  {
   "cell_type": "code",
   "execution_count": 223,
   "id": "28fd8db2-fa86-4a2d-aa28-5ef220a40c61",
   "metadata": {},
   "outputs": [],
   "source": [
    "teachers[\"Teacher_ID\"] = teachers[\"T\"] + teachers[\"Numb\"]\n",
    "del(teachers[\"T\"])\n",
    "del(teachers[\"Numb\"])"
   ]
  },
  {
   "cell_type": "code",
   "execution_count": 224,
   "id": "b17433c6-6e3c-46d3-ac99-09cd428790b4",
   "metadata": {},
   "outputs": [],
   "source": [
    "school_type = [\"Primary School\",\"Secondary School\"]"
   ]
  },
  {
   "cell_type": "code",
   "execution_count": 225,
   "id": "ea4e7416-1e7b-495a-8ce8-65e8b6b20fe6",
   "metadata": {},
   "outputs": [],
   "source": [
    "Type_preference = choice(school_type,50000,p=[0.79839518555667,0.20160481444332998])"
   ]
  },
  {
   "cell_type": "code",
   "execution_count": 226,
   "id": "c69b4aad-5d3e-42d7-a70f-38612b673cd5",
   "metadata": {},
   "outputs": [],
   "source": [
    "employed = pd.read_csv(\"/Users/juliusguenthoer/Documents/GitHub/MakeIT/NSW/2016-years-of-employment.csv\")"
   ]
  },
  {
   "cell_type": "code",
   "execution_count": 227,
   "id": "0aa6b5f3-a975-42a4-9a60-c6c5d940c2b1",
   "metadata": {},
   "outputs": [],
   "source": [
    "experience = [5,4,3,2,1]"
   ]
  },
  {
   "cell_type": "code",
   "execution_count": 228,
   "id": "b4661f33-105b-423e-9531-316e4ac09593",
   "metadata": {},
   "outputs": [],
   "source": [
    "experience_draw = choice(experience,50000,p =[0.2863,0.0916,0.1573,0.1648,0.3])"
   ]
  },
  {
   "cell_type": "code",
   "execution_count": 232,
   "id": "984df36f-6034-4373-9836-423630ca6d4d",
   "metadata": {},
   "outputs": [],
   "source": [
    "teachers = teachers[[\"Teacher_ID\", \"Genders\", \"Subject\",\"Type_preference\",\"Experience_level\"]]"
   ]
  },
  {
   "cell_type": "code",
   "execution_count": 233,
   "id": "0416e8c6-8ec7-4a4f-9e8b-225ae42a6db7",
   "metadata": {},
   "outputs": [
    {
     "data": {
      "text/html": [
       "<div>\n",
       "<style scoped>\n",
       "    .dataframe tbody tr th:only-of-type {\n",
       "        vertical-align: middle;\n",
       "    }\n",
       "\n",
       "    .dataframe tbody tr th {\n",
       "        vertical-align: top;\n",
       "    }\n",
       "\n",
       "    .dataframe thead th {\n",
       "        text-align: right;\n",
       "    }\n",
       "</style>\n",
       "<table border=\"1\" class=\"dataframe\">\n",
       "  <thead>\n",
       "    <tr style=\"text-align: right;\">\n",
       "      <th></th>\n",
       "      <th>Teacher_ID</th>\n",
       "      <th>Genders</th>\n",
       "      <th>Subject</th>\n",
       "      <th>Type_preference</th>\n",
       "      <th>Experience_level</th>\n",
       "    </tr>\n",
       "  </thead>\n",
       "  <tbody>\n",
       "    <tr>\n",
       "      <th>0</th>\n",
       "      <td>T1</td>\n",
       "      <td>F</td>\n",
       "      <td>Math</td>\n",
       "      <td>Primary School</td>\n",
       "      <td>4</td>\n",
       "    </tr>\n",
       "    <tr>\n",
       "      <th>1</th>\n",
       "      <td>T2</td>\n",
       "      <td>F</td>\n",
       "      <td>Technology</td>\n",
       "      <td>Primary School</td>\n",
       "      <td>5</td>\n",
       "    </tr>\n",
       "    <tr>\n",
       "      <th>2</th>\n",
       "      <td>T3</td>\n",
       "      <td>M</td>\n",
       "      <td>Data Team</td>\n",
       "      <td>Primary School</td>\n",
       "      <td>2</td>\n",
       "    </tr>\n",
       "    <tr>\n",
       "      <th>3</th>\n",
       "      <td>T4</td>\n",
       "      <td>M</td>\n",
       "      <td>Social Studies</td>\n",
       "      <td>Primary School</td>\n",
       "      <td>1</td>\n",
       "    </tr>\n",
       "    <tr>\n",
       "      <th>4</th>\n",
       "      <td>T5</td>\n",
       "      <td>F</td>\n",
       "      <td>Technology</td>\n",
       "      <td>Secondary School</td>\n",
       "      <td>3</td>\n",
       "    </tr>\n",
       "    <tr>\n",
       "      <th>...</th>\n",
       "      <td>...</td>\n",
       "      <td>...</td>\n",
       "      <td>...</td>\n",
       "      <td>...</td>\n",
       "      <td>...</td>\n",
       "    </tr>\n",
       "    <tr>\n",
       "      <th>49995</th>\n",
       "      <td>T49996</td>\n",
       "      <td>F</td>\n",
       "      <td>Data Team</td>\n",
       "      <td>Primary School</td>\n",
       "      <td>3</td>\n",
       "    </tr>\n",
       "    <tr>\n",
       "      <th>49996</th>\n",
       "      <td>T49997</td>\n",
       "      <td>F</td>\n",
       "      <td>Data Team</td>\n",
       "      <td>Secondary School</td>\n",
       "      <td>3</td>\n",
       "    </tr>\n",
       "    <tr>\n",
       "      <th>49997</th>\n",
       "      <td>T49998</td>\n",
       "      <td>F</td>\n",
       "      <td>Math</td>\n",
       "      <td>Primary School</td>\n",
       "      <td>1</td>\n",
       "    </tr>\n",
       "    <tr>\n",
       "      <th>49998</th>\n",
       "      <td>T49999</td>\n",
       "      <td>F</td>\n",
       "      <td>Student Life</td>\n",
       "      <td>Primary School</td>\n",
       "      <td>2</td>\n",
       "    </tr>\n",
       "    <tr>\n",
       "      <th>49999</th>\n",
       "      <td>T50000</td>\n",
       "      <td>F</td>\n",
       "      <td>Technology</td>\n",
       "      <td>Secondary School</td>\n",
       "      <td>5</td>\n",
       "    </tr>\n",
       "  </tbody>\n",
       "</table>\n",
       "<p>50000 rows × 5 columns</p>\n",
       "</div>"
      ],
      "text/plain": [
       "      Teacher_ID Genders         Subject   Type_preference  Experience_level\n",
       "0             T1       F            Math    Primary School                 4\n",
       "1             T2       F      Technology    Primary School                 5\n",
       "2             T3       M       Data Team    Primary School                 2\n",
       "3             T4       M  Social Studies    Primary School                 1\n",
       "4             T5       F      Technology  Secondary School                 3\n",
       "...          ...     ...             ...               ...               ...\n",
       "49995     T49996       F       Data Team    Primary School                 3\n",
       "49996     T49997       F       Data Team  Secondary School                 3\n",
       "49997     T49998       F            Math    Primary School                 1\n",
       "49998     T49999       F    Student Life    Primary School                 2\n",
       "49999     T50000       F      Technology  Secondary School                 5\n",
       "\n",
       "[50000 rows x 5 columns]"
      ]
     },
     "execution_count": 233,
     "metadata": {},
     "output_type": "execute_result"
    }
   ],
   "source": [
    "teachers"
   ]
  },
  {
   "cell_type": "code",
   "execution_count": null,
   "id": "7efce418-e07e-4aef-8164-943cdbc32896",
   "metadata": {},
   "outputs": [],
   "source": [
    "draw = choice(list_of_candidates, number_of_items_to_pick,\n",
    "              p=probability_distribution)"
   ]
  },
  {
   "cell_type": "code",
   "execution_count": 209,
   "id": "40ca713d-dc59-4cab-a243-bea0c60fbda1",
   "metadata": {},
   "outputs": [
    {
     "data": {
      "text/plain": [
       "1.0001"
      ]
     },
     "execution_count": 209,
     "metadata": {},
     "output_type": "execute_result"
    }
   ],
   "source": [
    "0.2863+0.0916+0.1573+0.1648+0.3001"
   ]
  },
  {
   "cell_type": "code",
   "execution_count": null,
   "id": "f4966c2b-17f7-40dc-8c31-38bb7305b818",
   "metadata": {},
   "outputs": [],
   "source": []
  }
 ],
 "metadata": {
  "kernelspec": {
   "display_name": "Python 3",
   "language": "python",
   "name": "python3"
  },
  "language_info": {
   "codemirror_mode": {
    "name": "ipython",
    "version": 3
   },
   "file_extension": ".py",
   "mimetype": "text/x-python",
   "name": "python",
   "nbconvert_exporter": "python",
   "pygments_lexer": "ipython3",
   "version": "3.8.8"
  }
 },
 "nbformat": 4,
 "nbformat_minor": 5
}
